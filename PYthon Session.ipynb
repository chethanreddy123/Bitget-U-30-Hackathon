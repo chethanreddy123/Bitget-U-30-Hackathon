{
 "cells": [
  {
   "cell_type": "markdown",
   "id": "c1e86887",
   "metadata": {},
   "source": [
    "# Basics Of OOPs"
   ]
  },
  {
   "cell_type": "code",
   "execution_count": null,
   "id": "5193d24f",
   "metadata": {},
   "outputs": [],
   "source": [
    "Object Oriented Programming:\n",
    "    1. Class\n",
    "    2. Object\n",
    "    3. Method\n",
    "    4. Inheritance\n",
    "    5. Class Constructor\n",
    "    6. Polymorphism\n",
    "    7. Data Abstraction\n",
    "    8. Encapsulation"
   ]
  },
  {
   "cell_type": "code",
   "execution_count": 3,
   "id": "9c489fd8",
   "metadata": {},
   "outputs": [
    {
     "name": "stdout",
     "output_type": "stream",
     "text": [
      "<class 'dict'>\n"
     ]
    }
   ],
   "source": [
    "L = {\n",
    "    \"Name\" : \"Jack\",\n",
    "    \"Age\" : 12\n",
    "}\n",
    "print(type(L))"
   ]
  },
  {
   "cell_type": "code",
   "execution_count": 4,
   "id": "84ffeee9",
   "metadata": {},
   "outputs": [
    {
     "data": {
      "text/plain": [
       "dict_keys(['Name', 'Age'])"
      ]
     },
     "execution_count": 4,
     "metadata": {},
     "output_type": "execute_result"
    }
   ],
   "source": [
    "L.keys()"
   ]
  },
  {
   "cell_type": "code",
   "execution_count": 5,
   "id": "55ee1549",
   "metadata": {},
   "outputs": [
    {
     "data": {
      "text/plain": [
       "dict_values(['Jack', 12])"
      ]
     },
     "execution_count": 5,
     "metadata": {},
     "output_type": "execute_result"
    }
   ],
   "source": [
    "L.values()"
   ]
  },
  {
   "cell_type": "code",
   "execution_count": null,
   "id": "573f0911",
   "metadata": {},
   "outputs": [],
   "source": [
    "# a class for football players,"
   ]
  },
  {
   "cell_type": "code",
   "execution_count": 19,
   "id": "72d39296",
   "metadata": {},
   "outputs": [],
   "source": [
    "class car:\n",
    "    def __init__(self, name, color, maxSpeed): # Constructor Method\n",
    "        self.name = name # attributes\n",
    "        self.color = color\n",
    "        self.maxSpeed = maxSpeed\n",
    "    def description(self):\n",
    "        print(\"The name of the car:\",self.name)\n",
    "        print(\"The color of the car:\",self.color)\n",
    "        print(\"The max speed of the car:\",self.maxSpeed)\n",
    "    def getSound(self, currSpeed):\n",
    "        if currSpeed < 100 :\n",
    "            print('zum zum.....')\n",
    "        else:\n",
    "            print('zuuuuuuuuuummmmmmmmmmmmmm....')"
   ]
  },
  {
   "cell_type": "code",
   "execution_count": 20,
   "id": "a3d69c23",
   "metadata": {},
   "outputs": [],
   "source": [
    "c1 = car('BMW' , 'Red' , '240')"
   ]
  },
  {
   "cell_type": "code",
   "execution_count": 21,
   "id": "49360eb2",
   "metadata": {},
   "outputs": [
    {
     "data": {
      "text/plain": [
       "('BMW', 'Red', '240')"
      ]
     },
     "execution_count": 21,
     "metadata": {},
     "output_type": "execute_result"
    }
   ],
   "source": [
    "c1.name, c1.color, c1.maxSpeed"
   ]
  },
  {
   "cell_type": "code",
   "execution_count": 18,
   "id": "47e6b06a",
   "metadata": {},
   "outputs": [
    {
     "name": "stdout",
     "output_type": "stream",
     "text": [
      "The name of the car: BMW\n",
      "The color of the car: Red\n",
      "The max speed of the car: 240\n"
     ]
    }
   ],
   "source": [
    "c1.description()"
   ]
  },
  {
   "cell_type": "code",
   "execution_count": 23,
   "id": "7de2448e",
   "metadata": {},
   "outputs": [
    {
     "name": "stdout",
     "output_type": "stream",
     "text": [
      "zum zum\n"
     ]
    }
   ],
   "source": [
    "c1.getSound(12)"
   ]
  },
  {
   "cell_type": "code",
   "execution_count": 24,
   "id": "6050d204",
   "metadata": {},
   "outputs": [],
   "source": [
    "class car:\n",
    "    def __init__(self, name, color, maxSpeed): # Constructor Method\n",
    "        self.name = name # attributes\n",
    "        self.color = color\n",
    "        self.maxSpeed = maxSpeed\n",
    "    def description(self):\n",
    "        print(\"The name of the car:\",self.name)\n",
    "        print(\"The color of the car:\",self.color)\n",
    "        print(\"The max speed of the car:\",self.maxSpeed)\n",
    "    def getSound(self, currSpeed):\n",
    "        if currSpeed < 100 :\n",
    "            print('zum zum.....')\n",
    "        else:\n",
    "            print('zuuuuuuuuuummmmmmmmmmmmmm....')"
   ]
  },
  {
   "cell_type": "code",
   "execution_count": 25,
   "id": "4e524a2b",
   "metadata": {},
   "outputs": [],
   "source": [
    "class BMW(car):\n",
    "    pass"
   ]
  },
  {
   "cell_type": "code",
   "execution_count": 26,
   "id": "cddb39be",
   "metadata": {},
   "outputs": [],
   "source": [
    "b1 = BMW('Electric' , 'Blue' , '200')"
   ]
  },
  {
   "cell_type": "code",
   "execution_count": 27,
   "id": "46541694",
   "metadata": {},
   "outputs": [
    {
     "name": "stdout",
     "output_type": "stream",
     "text": [
      "The name of the car: Electric\n",
      "The color of the car: Blue\n",
      "The max speed of the car: 200\n"
     ]
    }
   ],
   "source": [
    "b1.description()"
   ]
  },
  {
   "cell_type": "code",
   "execution_count": 3,
   "id": "567feab2",
   "metadata": {},
   "outputs": [],
   "source": [
    "var = '''\n",
    "DESCRIPTION\n",
    "Do you want to solve business challenges through innovative technology? Do you enjoy working on cutting-edge, scalable services technology in a team environment? Do you like working on industry-defining projects that move the needle?\n",
    "\n",
    "At Amazon, we hire the best minds in technology to innovate and build on behalf of our customers. The intense focus we have on our customers is why we are one of the world’s most beloved brands – customer obsession is part of our company DNA. Our interns write real software and collaborate with a selected group of experienced software development engineers who help interns on projects that matter to our customers.\n",
    "\n",
    "We want to you to feel welcomed, included and valued right from the start. Every day will be filled with exciting new challenges, developing new skills, and achieving personal growth. How often can you say that your work changes the world? At Amazon, you’ll say it often. Join us and define tomorrow.\n",
    "\n",
    "We have two different internship durations available:\n",
    "- 3 months internship\n",
    "- 6 months internship\n",
    "\n",
    "Please ensure to indicate your availability during the application process.\n",
    "\n",
    "\n",
    "Key job responsibilities\n",
    "- Collaborate with experienced cross-disciplinary Amazonians to conceive, design, and bring to market innovative products and services.\n",
    "- Design and build innovative technologies in a large distributed computing environment and help lead fundamental changes in the industry.\n",
    "- Create solutions to run predictions on distributed systems with exposure to innovative technologies at incredible scale and speed.\n",
    "- Build distributed storage, index, and query systems that are scalable, fault-tolerant, low cost, and easy to manage/use.\n",
    "- Work in an agile environment to deliver high quality software.\n",
    "\n",
    "\n",
    "A day in the life\n",
    "As an intern, you will be matched to a manager and a mentor. You will have the opportunity to influence the evolution of Amazon technology and lead mission critical projects early in your career. Your design, code, and raw smarts will contribute to solving some of the most complex technical challenges in the areas of distributed systems, data mining, automation, optimisation, scalability, and security – just to name a few.\n",
    "\n",
    "In addition to working on an impactful project, you will have the opportunity to engage with Amazonians for both personal and professional development, expand your network, and participate in activities with other interns throughout your internship. No matter the location of your internship, we give you the tools to own your project and learn in a real-world setting. Many of our technologies overlap, and you would be hard pressed to find a team that is not using Amazon Web Services (AWS), touching the catalogue, or iterating services to better personalise for customers. We make the impossible, possible.\n",
    "\n",
    "We are open to hiring candidates to work out of one of the following locations:\n",
    "\n",
    "London, GBR\n",
    "\n",
    "BASIC QUALIFICATIONS\n",
    "- Currently enrolled in a Bachelor’s or Master’s Degree in Computer Science, Computer Engineering, or related fields at time of application\n",
    "- Although no specific programming language is required – you should be familiar with the syntax of languages such as Java, C/C++, or Python\n",
    "- Knowledge of Computer Science fundamentals such as object-oriented design, algorithm design, data structures, problem solving and complexity analysis\n",
    "\n",
    "PREFERRED QUALIFICATIONS\n",
    "- Previous technical internship(s) if applicable\n",
    "- Experience with distributed, multi-tiered systems, algorithms, and relational databases\n",
    "- Experience in optimization mathematics such as linear programming and nonlinear optimisation\n",
    "- Ability to effectively articulate technical challenges and solutions\n",
    "- Adept at handling ambiguous or undefined problems as well as ability to think abstractly\n",
    "\n",
    "\n",
    "Amazon is an equal opportunities employer. We believe passionately that employing a diverse workforce is central to our success. We make recruiting decisions based on your experience and skills. We value your passion to discover, invent, simplify and build. Protecting your privacy and the security of your data is a longstanding top priority for Amazon. Please consult our Privacy Notice (https://www.amazon.jobs/en/privacy_page) to know more about how we collect, use and transfer the personal data of our candidates.\n",
    "\n",
    "Our inclusive culture empowers Amazonians to deliver the best results for our customers. If you have a disability and need an adjustment during the application and hiring process, including support for the interview or onboarding process, please contact the Applicant-Candidate Accommodation Team (ACAT), Monday through Friday from 7:00 am GMT - 4:00 pm GMT. If calling directly from the United Kingdom, please dial +44 800 086 9884 (tel:+448000869884). If calling from Ireland, please dial +353 1800 851 489 (tel:+3531800851489).\n",
    "\n",
    "'''"
   ]
  },
  {
   "cell_type": "code",
   "execution_count": 4,
   "id": "aa43d4ba",
   "metadata": {},
   "outputs": [
    {
     "data": {
      "text/plain": [
       "'\\nDESCRIPTION\\nDo you want to solve business challenges through innovative technology? Do you enjoy working on cutting-edge, scalable services technology in a team environment? Do you like working on industry-defining projects that move the needle?\\n\\nAt Amazon, we hire the best minds in technology to innovate and build on behalf of our customers. The intense focus we have on our customers is why we are one of the world’s most beloved brands – customer obsession is part of our company DNA. Our interns write real software and collaborate with a selected group of experienced software development engineers who help interns on projects that matter to our customers.\\n\\nWe want to you to feel welcomed, included and valued right from the start. Every day will be filled with exciting new challenges, developing new skills, and achieving personal growth. How often can you say that your work changes the world? At Amazon, you’ll say it often. Join us and define tomorrow.\\n\\nWe have two different internship durations available:\\n- 3 months internship\\n- 6 months internship\\n\\nPlease ensure to indicate your availability during the application process.\\n\\n\\nKey job responsibilities\\n- Collaborate with experienced cross-disciplinary Amazonians to conceive, design, and bring to market innovative products and services.\\n- Design and build innovative technologies in a large distributed computing environment and help lead fundamental changes in the industry.\\n- Create solutions to run predictions on distributed systems with exposure to innovative technologies at incredible scale and speed.\\n- Build distributed storage, index, and query systems that are scalable, fault-tolerant, low cost, and easy to manage/use.\\n- Work in an agile environment to deliver high quality software.\\n\\n\\nA day in the life\\nAs an intern, you will be matched to a manager and a mentor. You will have the opportunity to influence the evolution of Amazon technology and lead mission critical projects early in your career. Your design, code, and raw smarts will contribute to solving some of the most complex technical challenges in the areas of distributed systems, data mining, automation, optimisation, scalability, and security – just to name a few.\\n\\nIn addition to working on an impactful project, you will have the opportunity to engage with Amazonians for both personal and professional development, expand your network, and participate in activities with other interns throughout your internship. No matter the location of your internship, we give you the tools to own your project and learn in a real-world setting. Many of our technologies overlap, and you would be hard pressed to find a team that is not using Amazon Web Services (AWS), touching the catalogue, or iterating services to better personalise for customers. We make the impossible, possible.\\n\\nWe are open to hiring candidates to work out of one of the following locations:\\n\\nLondon, GBR\\n\\nBASIC QUALIFICATIONS\\n- Currently enrolled in a Bachelor’s or Master’s Degree in Computer Science, Computer Engineering, or related fields at time of application\\n- Although no specific programming language is required – you should be familiar with the syntax of languages such as Java, C/C++, or Python\\n- Knowledge of Computer Science fundamentals such as object-oriented design, algorithm design, data structures, problem solving and complexity analysis\\n\\nPREFERRED QUALIFICATIONS\\n- Previous technical internship(s) if applicable\\n- Experience with distributed, multi-tiered systems, algorithms, and relational databases\\n- Experience in optimization mathematics such as linear programming and nonlinear optimisation\\n- Ability to effectively articulate technical challenges and solutions\\n- Adept at handling ambiguous or undefined problems as well as ability to think abstractly\\n\\n\\nAmazon is an equal opportunities employer. We believe passionately that employing a diverse workforce is central to our success. We make recruiting decisions based on your experience and skills. We value your passion to discover, invent, simplify and build. Protecting your privacy and the security of your data is a longstanding top priority for Amazon. Please consult our Privacy Notice (https://www.amazon.jobs/en/privacy_page) to know more about how we collect, use and transfer the personal data of our candidates.\\n\\nOur inclusive culture empowers Amazonians to deliver the best results for our customers. If you have a disability and need an adjustment during the application and hiring process, including support for the interview or onboarding process, please contact the Applicant-Candidate Accommodation Team (ACAT), Monday through Friday from 7:00 am GMT - 4:00 pm GMT. If calling directly from the United Kingdom, please dial +44 800 086 9884 (tel:+448000869884). If calling from Ireland, please dial +353 1800 851 489 (tel:+3531800851489).\\n\\n'"
      ]
     },
     "execution_count": 4,
     "metadata": {},
     "output_type": "execute_result"
    }
   ],
   "source": [
    "var"
   ]
  },
  {
   "cell_type": "code",
   "execution_count": null,
   "id": "b39572f7",
   "metadata": {},
   "outputs": [],
   "source": []
  }
 ],
 "metadata": {
  "kernelspec": {
   "display_name": "Python 3.10 (tensorflow)",
   "language": "python",
   "name": "tensorflow"
  },
  "language_info": {
   "codemirror_mode": {
    "name": "ipython",
    "version": 3
   },
   "file_extension": ".py",
   "mimetype": "text/x-python",
   "name": "python",
   "nbconvert_exporter": "python",
   "pygments_lexer": "ipython3",
   "version": "3.10.11"
  }
 },
 "nbformat": 4,
 "nbformat_minor": 5
}
